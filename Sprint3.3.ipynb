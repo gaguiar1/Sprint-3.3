{
 "cells": [
  {
   "cell_type": "code",
   "execution_count": null,
   "id": "865ff146",
   "metadata": {},
   "outputs": [],
   "source": [
    "# Ejercicio 1\n",
    "\n",
    "nota = float(input(\"Ingresar una nota: \"))\n",
    "resultado = \"\"\n",
    "if nota < 5:\n",
    "    resultado = \"Suspendido\"\n",
    "if nota < 7 and nota >= 5:\n",
    "    resultado = \"Aprobado\"\n",
    "if nota <= 9 and nota >= 7:\n",
    "    resultado = \"Notable\"\n",
    "if nota == 10 :\n",
    "    resultado = \"Excelente\"\n",
    "if nota < 0 or nota > 10:\n",
    "    resultado = \"La nota no es valida\"\n",
    "\n",
    "print(resultado)\n",
    "\n"
   ]
  },
  {
   "cell_type": "code",
   "execution_count": null,
   "id": "73c6ea64",
   "metadata": {},
   "outputs": [],
   "source": [
    "# Ejercicio 2\n",
    "num1 = input(\"Ingresa un número \")\n",
    "num2 = input(\"Ingresa otro número \")\n",
    "if num1 < num2:\n",
    "    print(\"El segundo número es mayor\")\n",
    "if num1 > num2:\n",
    "    print(\"El primer número es mayor\")\n",
    "if num1 == num2:\n",
    "    print(\"Los números son iguales\")\n"
   ]
  },
  {
   "cell_type": "code",
   "execution_count": null,
   "id": "d3ee5f20",
   "metadata": {},
   "outputs": [],
   "source": [
    "# Ejercicio 3\n",
    "\n",
    "nombre = input(\"Ingresa tu nombre \")\n",
    "numero = int(input(\"Ingresa un número \"))\n",
    "print(f\"{nombre} \" * numero)\n",
    "\n"
   ]
  },
  {
   "cell_type": "code",
   "execution_count": null,
   "id": "ff1f1e64",
   "metadata": {},
   "outputs": [],
   "source": [
    "lista = [1,2,3,2,1]\n",
    "print(lista)\n",
    "lista.reverse()\n",
    "print(len(lista))\n",
    "\n"
   ]
  },
  {
   "cell_type": "code",
   "execution_count": null,
   "id": "4fcd69ca",
   "metadata": {},
   "outputs": [],
   "source": [
    "#Exercici 4\n",
    "lista = [1 ,2 ,3 ,2 ,1,]\n",
    "lista1 = [2, 1, 5, 3, 8, 4, 2]\n",
    "    \n",
    "\n",
    "def es_simetrica(lista):\n",
    "    lista_rev = lista.copy()\n",
    "    lista_rev.reverse()\n",
    "    if lista == lista_rev:\n",
    "        print(f\"Esta lista es simétrica y tiene {len(lista)} elements\")\n",
    "    else: \n",
    "        print(\"Esta lista no es simétrica\")\n",
    "        \n",
    "es_simetrica(lista)\n",
    "es_simetrica(lista1)\n",
    "    "
   ]
  },
  {
   "cell_type": "code",
   "execution_count": null,
   "id": "3c2d31f3",
   "metadata": {},
   "outputs": [],
   "source": [
    "#Exercici 5\n",
    "\n",
    "lista = [3,4,2,0,2,3,6]\n",
    "lista1 = [0, 1, 2, 3, 6, 8, 2]\n",
    "\n",
    "def iguales_index(lista):\n",
    "    \n",
    "    contador = 0\n",
    "    for i in range(len(lista)):\n",
    "        if lista[i] == i:\n",
    "            contador += 1\n",
    "    print (contador, \"números están ubicados en su posición de la lista\")\n",
    "\n",
    "iguales_index(lista)\n",
    "iguales_index(lista1)\n"
   ]
  }
 ],
 "metadata": {
  "kernelspec": {
   "display_name": "Python 3",
   "language": "python",
   "name": "python3"
  },
  "language_info": {
   "codemirror_mode": {
    "name": "ipython",
    "version": 3
   },
   "file_extension": ".py",
   "mimetype": "text/x-python",
   "name": "python",
   "nbconvert_exporter": "python",
   "pygments_lexer": "ipython3",
   "version": "3.8.8"
  }
 },
 "nbformat": 4,
 "nbformat_minor": 5
}
